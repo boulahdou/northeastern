{
 "cells": [
  {
   "cell_type": "code",
   "execution_count": 1,
   "metadata": {},
   "outputs": [],
   "source": [
    "#1=Aakash   8=Nickyta\n",
    "#2=Sanyami  9=Eric\n",
    "#3=Sandeep  10=Adithya\n",
    "#4=Kishan   11=Rohan\n",
    "#5=Becky    12=Charlotte\n",
    "#6=Vachana  13=Luka\n",
    "#7=Shivam   14=Pranav\n",
    "\n",
    "\n",
    "# Initialize matrix, where M[x][y] is the number of times that students\n",
    "# x and y are part of the same group.\n",
    "M = [ [0 for x in range(15)] for y in range(15)]\n",
    "\n",
    "\n",
    "# Richard's hand-created solution for the Quiz Groups + Problem Set Groups\n",
    "# Remember that Group 0 (Quiz Group) and Group 1 (Problem Set 1) are already locked in\n",
    "group0 = [[1,2,3],[4,5,6,7],[8,9,10,11],[12,13,14]]\n",
    "group1 = [[1,12,9,6],[5,13,8,11],[2,4,10],[3,7,14]]\n",
    "group2 = [[1,4,8],[2,5,9,14],[6,10,12],[3,7,11,13]]\n",
    "group3 = [[1,5,7,10],[2,8,12],[3,9,13],[4,6,11,14]]\n",
    "group4 = [[1,11,14],[2,6,7,13],[3,5,8,12],[4,9,10]]\n",
    "group5 = [[1,10,13,14],[2,3,11,12],[6,5,9],[4,7,8]]\n",
    "\n",
    "\n",
    "# Count the number of times that students x and y work together\n",
    "allgroups = group0+group1+group2+group3+group4+group5\n",
    "for group in allgroups:\n",
    "    for x in range(1,15):\n",
    "        for y in range(x+1,15):\n",
    "            if x in group and y in group:\n",
    "                M[x][y]+=1"
   ]
  },
  {
   "cell_type": "code",
   "execution_count": 2,
   "metadata": {},
   "outputs": [
    {
     "data": {
      "text/plain": [
       "[[0, 0, 0, 0, 0, 0, 0, 0, 0, 0, 0, 0, 0, 0, 0],\n",
       " [0, 0, 1, 1, 1, 1, 1, 1, 1, 1, 2, 1, 1, 1, 2],\n",
       " [0, 0, 0, 2, 1, 1, 1, 1, 1, 1, 1, 1, 2, 1, 1],\n",
       " [0, 0, 0, 0, 0, 1, 0, 2, 1, 1, 0, 2, 2, 2, 1],\n",
       " [0, 0, 0, 0, 0, 1, 2, 2, 2, 1, 2, 1, 0, 0, 1],\n",
       " [0, 0, 0, 0, 0, 0, 2, 2, 2, 2, 1, 1, 1, 1, 1],\n",
       " [0, 0, 0, 0, 0, 0, 0, 2, 0, 2, 1, 1, 2, 1, 1],\n",
       " [0, 0, 0, 0, 0, 0, 0, 0, 1, 0, 1, 1, 0, 2, 1],\n",
       " [0, 0, 0, 0, 0, 0, 0, 0, 0, 1, 1, 2, 2, 1, 0],\n",
       " [0, 0, 0, 0, 0, 0, 0, 0, 0, 0, 2, 1, 1, 1, 1],\n",
       " [0, 0, 0, 0, 0, 0, 0, 0, 0, 0, 0, 1, 1, 1, 1],\n",
       " [0, 0, 0, 0, 0, 0, 0, 0, 0, 0, 0, 0, 1, 2, 2],\n",
       " [0, 0, 0, 0, 0, 0, 0, 0, 0, 0, 0, 0, 0, 1, 1],\n",
       " [0, 0, 0, 0, 0, 0, 0, 0, 0, 0, 0, 0, 0, 0, 2],\n",
       " [0, 0, 0, 0, 0, 0, 0, 0, 0, 0, 0, 0, 0, 0, 0]]"
      ]
     },
     "execution_count": 2,
     "metadata": {},
     "output_type": "execute_result"
    }
   ],
   "source": [
    "M"
   ]
  },
  {
   "cell_type": "code",
   "execution_count": 3,
   "metadata": {},
   "outputs": [
    {
     "name": "stdout",
     "output_type": "stream",
     "text": [
      "There are 9 pairs that work together 0 times\n",
      "There are 56 pairs that work together 1 times\n",
      "There are 26 pairs that work together 2 times\n",
      "There are 0 pairs that work together 3 times\n",
      "There are 0 pairs that work together 4 times\n",
      "There are 0 pairs that work together 5 times\n",
      "There are 0 pairs that work together 6 times\n"
     ]
    }
   ],
   "source": [
    "# Determine how many times each pair works\n",
    "# Since there are 14 students, the total number of pairs is 14 x 13 / 2 = 91.\n",
    "\n",
    "count = [0,0,0,0,0,0,0]\n",
    "for x in range(1,15):\n",
    "    for y in range(x+1,15):\n",
    "        count[M[x][y]] += 1\n",
    "for c in range(7):\n",
    "    print(\"There are\", count[c], \"pairs that work together\", c, \"times\")"
   ]
  },
  {
   "cell_type": "code",
   "execution_count": 4,
   "metadata": {},
   "outputs": [],
   "source": [
    "# Turn the above calculation into a PENALTY SCORE, defined as follows\n",
    "# 2 points for each pair that works together 0 times\n",
    "# 1 point for each pair that works together 2 times\n",
    "# 100 points for each pair that works together more than 2 times\n",
    "\n",
    "def CalculateScore(allgroups):\n",
    "    M = [ [0 for x in range(15)] for y in range(15)]\n",
    "    for group in allgroups:\n",
    "        for x in range(1,15):\n",
    "            for y in range(x+1,15):\n",
    "                if x in group and y in group:\n",
    "                    M[x][y]+=1\n",
    "    count = [0,0,0,0,0,0,0]\n",
    "    for x in range(1,15):\n",
    "        for y in range(x+1,15):\n",
    "            count[M[x][y]] += 1\n",
    "\n",
    "    score = (count[0])*2 + (count[2])*1 + (count[3]+count[4]+count[5]+count[6])*100\n",
    "    return score\n"
   ]
  },
  {
   "cell_type": "code",
   "execution_count": 5,
   "metadata": {},
   "outputs": [
    {
     "data": {
      "text/plain": [
       "44"
      ]
     },
     "execution_count": 5,
     "metadata": {},
     "output_type": "execute_result"
    }
   ],
   "source": [
    "CalculateScore(allgroups)"
   ]
  },
  {
   "cell_type": "code",
   "execution_count": 6,
   "metadata": {},
   "outputs": [
    {
     "data": {
      "text/plain": [
       "[[0, 1, 1, 1, 2, 2, 2, 2, 3, 3, 3, 3, 4, 4, 4],\n",
       " [0, 1, 3, 4, 3, 2, 1, 4, 2, 1, 3, 2, 1, 2, 4],\n",
       " [0, 1, 2, 4, 1, 2, 3, 4, 1, 2, 3, 4, 3, 4, 2],\n",
       " [0, 1, 2, 3, 4, 1, 4, 1, 2, 3, 1, 4, 2, 3, 4],\n",
       " [0, 1, 2, 3, 4, 3, 2, 2, 3, 4, 4, 1, 3, 2, 1],\n",
       " [0, 1, 2, 2, 4, 3, 3, 4, 4, 3, 1, 2, 2, 1, 1]]"
      ]
     },
     "execution_count": 6,
     "metadata": {},
     "output_type": "execute_result"
    }
   ],
   "source": [
    "# Now we will turn these groups into a simple matrix N,\n",
    "# where N[p][x]=t means in Problem Set p, Student x is assigned to group g \n",
    "\n",
    "group0 = [[1,2,3],[4,5,6,7],[8,9,10,11],[12,13,14]]\n",
    "group1 = [[1,12,9,6],[5,13,8,11],[2,4,10],[3,7,14]]\n",
    "group2 = [[1,4,8],[2,5,9,14],[6,10,12],[3,7,11,13]]\n",
    "group3 = [[1,5,7,10],[2,8,12],[3,9,13],[4,6,11,14]]\n",
    "group4 = [[1,11,14],[2,6,7,13],[3,5,8,12],[4,9,10]]\n",
    "group5 = [[1,10,13,14],[2,3,11,12],[6,5,9],[4,7,8]]\n",
    "\n",
    "N = [ [0 for x in range(15)] for p in range(6)]\n",
    "for x in range(15):\n",
    "    for c in range(4):\n",
    "        if x in group0[c]: N[0][x]=c+1\n",
    "        if x in group1[c]: N[1][x]=c+1\n",
    "        if x in group2[c]: N[2][x]=c+1\n",
    "        if x in group3[c]: N[3][x]=c+1\n",
    "        if x in group4[c]: N[4][x]=c+1\n",
    "        if x in group5[c]: N[5][x]=c+1\n",
    "\n",
    "N"
   ]
  },
  {
   "cell_type": "code",
   "execution_count": 7,
   "metadata": {},
   "outputs": [],
   "source": [
    "# Create a function that turns the matrix N back into my \"allgroups\" format\n",
    "\n",
    "def CreateAllGroups(N):\n",
    "    allgroups = []\n",
    "    for g in range(6):\n",
    "        for c in [1,2,3,4]:\n",
    "            mygroup = []\n",
    "            for x in range(15):\n",
    "                if N[g][x] == c:\n",
    "                    mygroup.append(x)\n",
    "            allgroups.append(mygroup)\n",
    "    return allgroups"
   ]
  },
  {
   "cell_type": "code",
   "execution_count": 8,
   "metadata": {},
   "outputs": [
    {
     "name": "stdout",
     "output_type": "stream",
     "text": [
      "Step 63 switch [10, 12] in Problem Set 4 lowers penalty score to 41\n",
      "Step 408 switch [10, 11] in Problem Set 3 lowers penalty score to 38\n",
      "Step 865 switch [9, 12] in Problem Set 5 lowers penalty score to 35\n",
      "Step 1247 switch [1, 12] in Problem Set 3 lowers penalty score to 32\n",
      "Step 1562 switch [5, 9] in Problem Set 4 lowers penalty score to 29\n",
      "Step 2043 switch [8, 9] in Problem Set 4 lowers penalty score to 26\n",
      "Step 2457 switch [1, 3] in Problem Set 2 lowers penalty score to 23\n"
     ]
    }
   ],
   "source": [
    "import copy\n",
    "import random\n",
    "\n",
    "NewMatrix = copy.deepcopy(N)\n",
    "BestScore = CalculateScore(allgroups)\n",
    "\n",
    "for z in range(100000):\n",
    "    \n",
    "    # Get my random group g, and my random students x and y\n",
    "    p = random.randint(2,5)\n",
    "    x = random.randint(1,13)\n",
    "    y = random.randint(x+1,14)\n",
    "    \n",
    "    # Switch the groups of students x and y\n",
    "    xvalue = NewMatrix[p][x]\n",
    "    yvalue = NewMatrix[p][y]\n",
    "    NewMatrix[p][y]=xvalue\n",
    "    NewMatrix[p][x]=yvalue\n",
    "\n",
    "    # Check to see if this leads to an improvement\n",
    "    NewGroups = CreateAllGroups(NewMatrix)\n",
    "    NewScore = CalculateScore(NewGroups)\n",
    "    \n",
    "    # If the NewScore is not an improvement, return the NewMatrix back to what it was.\n",
    "    if NewScore > BestScore:\n",
    "        NewMatrix[p][x]=xvalue\n",
    "        NewMatrix[p][y]=yvalue\n",
    "        \n",
    "    # Otherwise, update the score!\n",
    "    if BestScore > NewScore:\n",
    "        BestScore = NewScore\n",
    "        print(\"Step\", z, \"switch\", [x,y], \"in Problem Set\", p, \"lowers penalty score to\", BestScore)\n",
    "        \n",
    "    "
   ]
  },
  {
   "cell_type": "code",
   "execution_count": 9,
   "metadata": {},
   "outputs": [
    {
     "name": "stdout",
     "output_type": "stream",
     "text": [
      "23 [2, 70, 19, 0, 0, 0, 0]\n"
     ]
    }
   ],
   "source": [
    "NewGroups = CreateAllGroups(NewMatrix)\n",
    "allgroups = NewGroups\n",
    "\n",
    "M = [ [0 for x in range(15)] for y in range(15)]\n",
    "for group in allgroups:\n",
    "    for x in range(1,15):\n",
    "        for y in range(x+1,15):\n",
    "            if x in group and y in group:\n",
    "                M[x][y]+=1\n",
    "count = [0,0,0,0,0,0,0]\n",
    "for x in range(1,15):\n",
    "    for y in range(x+1,15):\n",
    "        count[M[x][y]] += 1\n",
    "\n",
    "score = (count[0])*2 + (count[2])*1 + (count[3]+count[4]+count[5]+count[6])*100\n",
    "print(score, count)"
   ]
  },
  {
   "cell_type": "code",
   "execution_count": 10,
   "metadata": {},
   "outputs": [
    {
     "data": {
      "text/plain": [
       "[[1, 2, 3],\n",
       " [4, 5, 6, 7],\n",
       " [8, 9, 10, 11],\n",
       " [12, 13, 14],\n",
       " [1, 6, 9, 12],\n",
       " [5, 8, 11, 13],\n",
       " [2, 4, 10],\n",
       " [3, 7, 14],\n",
       " [3, 6, 8],\n",
       " [2, 5, 9, 14],\n",
       " [7, 10, 12],\n",
       " [1, 4, 11, 13],\n",
       " [2, 5, 11, 12],\n",
       " [1, 7, 8],\n",
       " [3, 9, 13],\n",
       " [4, 6, 10, 14],\n",
       " [1, 11, 14],\n",
       " [2, 6, 7, 13],\n",
       " [3, 5, 9, 10],\n",
       " [4, 8, 12],\n",
       " [1, 5, 10, 13],\n",
       " [3, 6, 11, 12],\n",
       " [4, 7, 9],\n",
       " [2, 8, 14]]"
      ]
     },
     "execution_count": 10,
     "metadata": {},
     "output_type": "execute_result"
    }
   ],
   "source": [
    "allgroups"
   ]
  },
  {
   "cell_type": "code",
   "execution_count": null,
   "metadata": {},
   "outputs": [],
   "source": []
  }
 ],
 "metadata": {
  "kernelspec": {
   "display_name": "Python 3",
   "language": "python",
   "name": "python3"
  },
  "language_info": {
   "codemirror_mode": {
    "name": "ipython",
    "version": 3
   },
   "file_extension": ".py",
   "mimetype": "text/x-python",
   "name": "python",
   "nbconvert_exporter": "python",
   "pygments_lexer": "ipython3",
   "version": "3.7.3"
  }
 },
 "nbformat": 4,
 "nbformat_minor": 2
}
