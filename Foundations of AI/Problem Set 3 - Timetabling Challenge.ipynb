{
 "cells": [
  {
   "cell_type": "code",
   "execution_count": 1,
   "metadata": {},
   "outputs": [],
   "source": [
    "import time\n",
    "import pandas as pd\n",
    "from ortools.linear_solver import pywraplp"
   ]
  },
  {
   "cell_type": "code",
   "execution_count": 2,
   "metadata": {},
   "outputs": [
    {
     "name": "stdout",
     "output_type": "stream",
     "text": [
      "    -  0  1  2  3  4  5  6  7  8  9 10 11\n",
      "0  S0  Y  Y  Y  -  Y  -  -  -  -  -  -  -\n",
      "1  S1  -  Y  Y  -  Y  Y  -  -  -  -  -  -\n",
      "2  S2  -  -  -  Y  -  -  -  -  -  Y  Y  Y\n",
      "3  S3  Y  Y  -  -  -  -  -  -  Y  -  -  Y\n",
      "4  S4  -  -  -  -  -  Y  Y  Y  Y  -  -  -\n",
      "5  S5  -  -  -  Y  -  -  -  Y  -  Y  -  Y\n",
      "6  S6  Y  -  -  -  -  -  Y  -  -  Y  Y  -\n",
      "7  S7  -  Y  Y  -  -  Y  Y  -  -  -  -  -\n",
      "\n",
      "    -  0  1  2  3  4  5  6  7  8  9 10 11\n",
      "0  T0  Y  -  -  -  -  -  Y  -  Y  -  -  -\n",
      "1  T1  Y  -  -  -  -  Y  Y  -  Y  -  -  -\n",
      "2  T2  -  Y  -  Y  -  -  -  Y  -  -  -  -\n",
      "3  T3  Y  Y  -  -  -  -  -  -  -  -  Y  Y\n",
      "4  T4  -  -  Y  Y  Y  -  -  -  -  -  -  -\n",
      "5  T5  -  -  Y  -  -  -  -  Y  Y  Y  -  -\n",
      "\n",
      "    -  0  1  2  3\n",
      "0  T0  -  -  N  N\n",
      "1  T1  -  -  -  -\n",
      "2  T2  -  -  -  N\n",
      "3  T3  N  -  -  -\n",
      "4  T4  -  -  -  -\n",
      "5  T5  N  N  -  -\n",
      "\n",
      "      -  0  1  2  3\n",
      "0    C0  -  -  N  N\n",
      "1    C1  N  N  -  -\n",
      "2    C2  -  -  -  -\n",
      "3    C3  -  -  -  -\n",
      "4    C4  -  -  -  -\n",
      "5    C5  -  -  -  -\n",
      "6    C6  -  -  -  -\n",
      "7    C7  -  -  -  -\n",
      "8    C8  -  -  -  -\n",
      "9    C9  -  -  -  -\n",
      "10  C10  -  -  -  -\n",
      "11  C11  -  -  -  -\n"
     ]
    }
   ],
   "source": [
    "AllData = pd.ExcelFile(\"Input Data.xlsx\")\n",
    "StudentCourseData = pd.read_excel(AllData, 'StudentCourse')\n",
    "TeacherCourseData = pd.read_excel(AllData, 'TeacherCourse')\n",
    "TeacherBlockData = pd.read_excel(AllData, 'TeacherDay')\n",
    "CourseBlockData = pd.read_excel(AllData, 'CourseDay')\n",
    "\n",
    "print(StudentCourseData)\n",
    "print(\"\")\n",
    "\n",
    "print(TeacherCourseData)\n",
    "print(\"\")\n",
    "\n",
    "print(TeacherBlockData)\n",
    "print(\"\")\n",
    "\n",
    "print(CourseBlockData)"
   ]
  },
  {
   "cell_type": "code",
   "execution_count": 3,
   "metadata": {},
   "outputs": [
    {
     "name": "stdout",
     "output_type": "stream",
     "text": [
      "Y\n",
      "Y\n",
      "N\n",
      "N\n"
     ]
    }
   ],
   "source": [
    "# StudentCourseData[8][3] ='Y' means that Student S3 wants to take Course C8\n",
    "print(StudentCourseData[8][3])\n",
    "\n",
    "# TeacherCourseData[9][5] ='Y' means that Course C5 can be taught by Teacher T9\n",
    "print(TeacherCourseData[9][5])\n",
    "\n",
    "# TeacherDayData[1][5] ='N' means that Day D1 cannot be assigned to Teacher T5\n",
    "print(TeacherBlockData[1][5])\n",
    "\n",
    "# CourseDayData[3][0] ='N' means that Day D3 cannot be assigned to Course C0\n",
    "print(CourseBlockData[3][0])\n"
   ]
  },
  {
   "cell_type": "code",
   "execution_count": 4,
   "metadata": {},
   "outputs": [],
   "source": [
    "numStudents = 8\n",
    "numTeachers = 6\n",
    "numCourses = 12\n",
    "numDays = 4\n",
    "\n",
    "allStudents = range(numStudents)\n",
    "allTeachers = range(numTeachers)\n",
    "allCourses = range(numCourses)\n",
    "allDays = range(numDays)\n",
    "\n",
    "StudentList=['S0','S1','S2','S3','S4','S5','S6','S7']\n",
    "TeacherList=['T0','T1','T2','T3','T4','T5']\n",
    "CourseList=['C0','C1','C2','C3','C4','C5','C6','C7','C8','C9','C10','C11']\n",
    "DayList=['D0','D1','D2','D3']"
   ]
  },
  {
   "cell_type": "code",
   "execution_count": 5,
   "metadata": {},
   "outputs": [
    {
     "name": "stdout",
     "output_type": "stream",
     "text": [
      "Optimization Complete with Total Happiness Score of 32\n",
      "\n",
      "Our program needed 0.007 seconds to determine the optimal solution\n"
     ]
    }
   ],
   "source": [
    "solver = pywraplp.Solver('Timetabling Problem', pywraplp.Solver.CBC_MIXED_INTEGER_PROGRAMMING)\n",
    "\n",
    "start_time = time.time()\n",
    "\n",
    "# Define our binary variables for the students and teachers\n",
    "X = {}\n",
    "for s in allStudents:\n",
    "    for c in allCourses:\n",
    "        for d in allDays:\n",
    "            X[s,c,d] = solver.BoolVar('X[%i,%i,%i]' % (s,c,d))\n",
    "\n",
    "Y = {}\n",
    "for t in allTeachers:\n",
    "    for c in allCourses:\n",
    "        for d in allDays:\n",
    "            Y[t,c,d] = solver.BoolVar('Y[%i,%i,%i]' % (t,c,d))\n",
    "            \n",
    "\n",
    "            \n",
    "# Define our objective function\n",
    "solver.Maximize(solver.Sum(X[s,c,d] for s in allStudents for c in allCourses for d in allDays))\n",
    "\n",
    "\n",
    "\n",
    "# Each student must take one course on each day\n",
    "for s in allStudents:\n",
    "    for d in allDays:\n",
    "        solver.Add(solver.Sum([X[s,c,d] for c in allCourses]) == 1)  \n",
    "\n",
    "        \n",
    "# No teacher may teach more than one course per day\n",
    "for t in allTeachers:\n",
    "    for d in allDays:\n",
    "        solver.Add(solver.Sum([Y[t,c,d] for c in allCourses]) <= 1)  \n",
    "\n",
    "\n",
    "        \n",
    "    \n",
    "current_time = time.time() \n",
    "reading_time = current_time - start_time         \n",
    "sol = solver.Solve()\n",
    "solving_time = time.time() - current_time\n",
    "\n",
    "print('Optimization Complete with Total Happiness Score of', round(solver.Objective().Value()))\n",
    "print(\"\")\n",
    "print('Our program needed', round(solving_time,3), \n",
    "      'seconds to determine the optimal solution')\n",
    "                "
   ]
  },
  {
   "cell_type": "code",
   "execution_count": 6,
   "metadata": {},
   "outputs": [
    {
     "name": "stdout",
     "output_type": "stream",
     "text": [
      "Student S0 is taking Course C0 on Day D0\n",
      "Student S0 is taking Course C0 on Day D3\n",
      "Student S0 is taking Course C7 on Day D1\n",
      "Student S0 is taking Course C7 on Day D2\n",
      "\n",
      "Student S1 is taking Course C4 on Day D0\n",
      "Student S1 is taking Course C4 on Day D1\n",
      "Student S1 is taking Course C5 on Day D3\n",
      "Student S1 is taking Course C10 on Day D2\n",
      "\n",
      "Student S2 is taking Course C8 on Day D2\n",
      "Student S2 is taking Course C10 on Day D0\n",
      "Student S2 is taking Course C10 on Day D1\n",
      "Student S2 is taking Course C10 on Day D3\n",
      "\n",
      "Student S3 is taking Course C0 on Day D2\n",
      "Student S3 is taking Course C0 on Day D3\n",
      "Student S3 is taking Course C2 on Day D1\n",
      "Student S3 is taking Course C7 on Day D0\n",
      "\n",
      "Student S4 is taking Course C0 on Day D0\n",
      "Student S4 is taking Course C1 on Day D1\n",
      "Student S4 is taking Course C2 on Day D2\n",
      "Student S4 is taking Course C6 on Day D3\n",
      "\n",
      "Student S5 is taking Course C6 on Day D0\n",
      "Student S5 is taking Course C6 on Day D2\n",
      "Student S5 is taking Course C9 on Day D1\n",
      "Student S5 is taking Course C9 on Day D3\n",
      "\n",
      "Student S6 is taking Course C4 on Day D0\n",
      "Student S6 is taking Course C10 on Day D1\n",
      "Student S6 is taking Course C11 on Day D2\n",
      "Student S6 is taking Course C11 on Day D3\n",
      "\n",
      "Student S7 is taking Course C1 on Day D0\n",
      "Student S7 is taking Course C3 on Day D3\n",
      "Student S7 is taking Course C8 on Day D2\n",
      "Student S7 is taking Course C9 on Day D1\n",
      "\n"
     ]
    }
   ],
   "source": [
    "# Print Output for Students\n",
    "\n",
    "for s in allStudents:\n",
    "    for c in allCourses:\n",
    "        for d in allDays:\n",
    "            if X[s,c,d].solution_value() == 1:\n",
    "                print(\"Student\", StudentList[s], \"is taking Course\", CourseList[c],\n",
    "                      \"on Day\", DayList[d])\n",
    "    print(\"\")\n"
   ]
  },
  {
   "cell_type": "code",
   "execution_count": 7,
   "metadata": {},
   "outputs": [
    {
     "name": "stdout",
     "output_type": "stream",
     "text": [
      "Teacher T0 is teaching Course C1 on Day D3\n",
      "Teacher T0 is teaching Course C5 on Day D0\n",
      "Teacher T0 is teaching Course C9 on Day D2\n",
      "\n",
      "Teacher T1 is teaching Course C3 on Day D0\n",
      "Teacher T1 is teaching Course C5 on Day D3\n",
      "Teacher T1 is teaching Course C6 on Day D2\n",
      "Teacher T1 is teaching Course C11 on Day D1\n",
      "\n",
      "Teacher T2 is teaching Course C2 on Day D1\n",
      "Teacher T2 is teaching Course C4 on Day D0\n",
      "Teacher T2 is teaching Course C9 on Day D2\n",
      "\n",
      "Teacher T3 is teaching Course C4 on Day D2\n",
      "Teacher T3 is teaching Course C10 on Day D0\n",
      "Teacher T3 is teaching Course C10 on Day D1\n",
      "Teacher T3 is teaching Course C11 on Day D3\n",
      "\n",
      "Teacher T4 is teaching Course C1 on Day D2\n",
      "Teacher T4 is teaching Course C6 on Day D3\n",
      "Teacher T4 is teaching Course C9 on Day D1\n",
      "\n",
      "Teacher T5 is teaching Course C3 on Day D2\n",
      "Teacher T5 is teaching Course C5 on Day D3\n",
      "Teacher T5 is teaching Course C11 on Day D0\n",
      "Teacher T5 is teaching Course C11 on Day D1\n",
      "\n"
     ]
    }
   ],
   "source": [
    "for t in allTeachers:\n",
    "    for c in allCourses:\n",
    "        for d in allDays:\n",
    "            if Y[t,c,d].solution_value() == 1:\n",
    "                print(\"Teacher\", TeacherList[t], \"is teaching Course\", CourseList[c],\n",
    "                      \"on Day\", DayList[d])\n",
    "    print(\"\")"
   ]
  }
 ],
 "metadata": {
  "kernelspec": {
   "display_name": "Python 3",
   "language": "python",
   "name": "python3"
  },
  "language_info": {
   "codemirror_mode": {
    "name": "ipython",
    "version": 3
   },
   "file_extension": ".py",
   "mimetype": "text/x-python",
   "name": "python",
   "nbconvert_exporter": "python",
   "pygments_lexer": "ipython3",
   "version": "3.7.3"
  }
 },
 "nbformat": 4,
 "nbformat_minor": 2
}
