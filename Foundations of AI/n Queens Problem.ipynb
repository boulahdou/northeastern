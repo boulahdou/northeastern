{
 "cells": [
  {
   "cell_type": "code",
   "execution_count": 1,
   "metadata": {},
   "outputs": [],
   "source": [
    "# import sys\n",
    "# !{sys.executable} -m pip install ortools \n",
    "\n",
    "import pandas as pd\n",
    "import numpy as np\n",
    "import time\n",
    "from ortools.sat.python import cp_model"
   ]
  },
  {
   "cell_type": "code",
   "execution_count": 2,
   "metadata": {},
   "outputs": [],
   "source": [
    "def QueensProblem(n):\n",
    "    \n",
    "    # Determine the start time\n",
    "    StartTime = time.process_time()\n",
    "\n",
    "    \n",
    "    # Define our Constraint Programming (CP) Model\n",
    "    Queens = cp_model.CpModel()\n",
    "    \n",
    "    \n",
    "    # Define our Boolean Variables\n",
    "    X = {}\n",
    "    for i in range(n):\n",
    "        for j in range(n):\n",
    "            X[i,j] = Queens.NewIntVar(0, 1, 'X[%d, %d]' % (i,j))\n",
    "        \n",
    "        \n",
    "    # Ensure there is one queen in each row\n",
    "    for i in range(n):\n",
    "        Queens.Add(sum(X[i,j] for j in range(n)) == 1)\n",
    "    \n",
    "    \n",
    "    # Ensure there is one queen in each column\n",
    "    #\n",
    "    # YOU FIGURE THIS OUT!!\n",
    "       \n",
    "        \n",
    "        \n",
    "        \n",
    "    # For each pair of distinct cells [a,b], [c,d], ensure both are not \n",
    "    # queens if they lie on the same diagonal.\n",
    "    #\n",
    "    # YOU NEED TO REPLACE THE BOGUS CONDITION 1+1==10000 WITH THE ACTUAL\n",
    "    # CONDITION TO CHECK WHETHER [a,b] and [c,d] ARE ON THE SAME DIAGONAL.\n",
    "    \n",
    "    for a in range(n):\n",
    "        for b in range(n):\n",
    "            for c in range(n):\n",
    "                for d in range(n):\n",
    "                    if [a,b] != [c,d]:\n",
    "                        if 1+1==10000:\n",
    "                            Queens.Add(X[a,b] + X[c,d] <= 1)\n",
    "            \n",
    "            \n",
    "    # Creates a solver and solves the model.\n",
    "    solver = cp_model.CpSolver()\n",
    "    status = solver.Solve(Queens)\n",
    "\n",
    "    \n",
    "    # Determine the total time of running Solver\n",
    "    TotalTime = round(time.process_time() - StartTime, 5)\n",
    "    print(\"The total solving time was\", TotalTime, \"seconds\")\n",
    "    print(\"\")\n",
    "    \n",
    "    # Print the locations of the n Queens\n",
    "    if status == cp_model.FEASIBLE:\n",
    "        for i in range(n):\n",
    "            for j in range(n):\n",
    "                if solver.Value(X[i,j])==1:\n",
    "                    print(\"Row\", i, \"Column\", j)\n",
    "                "
   ]
  },
  {
   "cell_type": "code",
   "execution_count": 3,
   "metadata": {},
   "outputs": [
    {
     "name": "stdout",
     "output_type": "stream",
     "text": [
      "The total solving time was 0.0 seconds\n",
      "\n",
      "Row 0 Column 1\n",
      "Row 1 Column 0\n",
      "Row 2 Column 0\n",
      "Row 3 Column 0\n",
      "Row 4 Column 0\n",
      "Row 5 Column 0\n"
     ]
    }
   ],
   "source": [
    "QueensProblem(6)"
   ]
  },
  {
   "cell_type": "code",
   "execution_count": 4,
   "metadata": {},
   "outputs": [
    {
     "name": "stdout",
     "output_type": "stream",
     "text": [
      "The total solving time was 0.04688 seconds\n",
      "\n",
      "Row 0 Column 1\n",
      "Row 1 Column 0\n",
      "Row 2 Column 0\n",
      "Row 3 Column 0\n",
      "Row 4 Column 0\n",
      "Row 5 Column 0\n",
      "Row 6 Column 0\n",
      "Row 7 Column 0\n",
      "Row 8 Column 0\n",
      "Row 9 Column 0\n",
      "Row 10 Column 0\n",
      "Row 11 Column 0\n",
      "Row 12 Column 0\n",
      "Row 13 Column 0\n",
      "Row 14 Column 0\n",
      "Row 15 Column 0\n",
      "Row 16 Column 0\n",
      "Row 17 Column 0\n",
      "Row 18 Column 0\n",
      "Row 19 Column 0\n"
     ]
    }
   ],
   "source": [
    "QueensProblem(20)"
   ]
  },
  {
   "cell_type": "code",
   "execution_count": null,
   "metadata": {},
   "outputs": [],
   "source": []
  }
 ],
 "metadata": {
  "kernelspec": {
   "display_name": "Python 3",
   "language": "python",
   "name": "python3"
  },
  "language_info": {
   "codemirror_mode": {
    "name": "ipython",
    "version": 3
   },
   "file_extension": ".py",
   "mimetype": "text/x-python",
   "name": "python",
   "nbconvert_exporter": "python",
   "pygments_lexer": "ipython3",
   "version": "3.7.3"
  }
 },
 "nbformat": 4,
 "nbformat_minor": 2
}
