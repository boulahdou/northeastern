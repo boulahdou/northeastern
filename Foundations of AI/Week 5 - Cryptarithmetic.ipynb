{
 "cells": [
  {
   "cell_type": "code",
   "execution_count": 1,
   "metadata": {},
   "outputs": [],
   "source": [
    "import time\n",
    "from ortools.sat.python import cp_model"
   ]
  },
  {
   "cell_type": "code",
   "execution_count": 14,
   "metadata": {},
   "outputs": [
    {
     "name": "stdout",
     "output_type": "stream",
     "text": [
      "A 1\n",
      "E 8\n",
      "H 2\n",
      "L 3\n",
      "T 9\n",
      "P 0\n"
     ]
    }
   ],
   "source": [
    "# Set up the model, with the six variables\n",
    "\n",
    "model = cp_model.CpModel()\n",
    "a = model.NewIntVar(0, 9, 'A')\n",
    "e = model.NewIntVar(0, 9, 'E') \n",
    "h = model.NewIntVar(0, 9, 'H')\n",
    "l = model.NewIntVar(0, 9, 'L')\n",
    "t = model.NewIntVar(0, 9, 'T')\n",
    "p = model.NewIntVar(0, 9, 'P')\n",
    "\n",
    "   \n",
    "# Group the variables in a list to use the constraint AllDifferent\n",
    "letters = [a,e,h,l,t,p]\n",
    "model.AddAllDifferent(letters)\n",
    "\n",
    "\n",
    "# EAT + THAT = APPLE\n",
    "model.Add(100*e + 10*a + t + 1000*t + 100*h + 10*a + t ==\n",
    "          10000*a + 1000*p + 100*p + 10*l + e)\n",
    "    \n",
    "    \n",
    "# Find the solution\n",
    "solver = cp_model.CpSolver()\n",
    "status = solver.Solve(model)\n",
    "\n",
    "\n",
    "for x in letters:\n",
    "    print(x, solver.Value(x))\n"
   ]
  }
 ],
 "metadata": {
  "kernelspec": {
   "display_name": "Python 3",
   "language": "python",
   "name": "python3"
  },
  "language_info": {
   "codemirror_mode": {
    "name": "ipython",
    "version": 3
   },
   "file_extension": ".py",
   "mimetype": "text/x-python",
   "name": "python",
   "nbconvert_exporter": "python",
   "pygments_lexer": "ipython3",
   "version": "3.7.3"
  }
 },
 "nbformat": 4,
 "nbformat_minor": 2
}
