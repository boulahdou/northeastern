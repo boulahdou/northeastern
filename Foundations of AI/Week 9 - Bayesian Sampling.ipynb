{
 "cells": [
  {
   "cell_type": "code",
   "execution_count": 1,
   "metadata": {},
   "outputs": [],
   "source": [
    "# Hungry Baby Problem, solved using Bayesian Sampling\n",
    "\n",
    "import random\n",
    "\n",
    "def simulation():\n",
    "    \n",
    "    Hungry=False\n",
    "    Tired=False\n",
    "    Crying=False\n",
    "    Woken=False\n",
    "    \n",
    "    if random.random()<0.3: Hungry = True\n",
    "    if random.random()<0.2: Tired = True\n",
    "\n",
    "    if Hungry and Tired:\n",
    "        if random.random()<0.9: Crying = True\n",
    "    elif Hungry and not Tired:\n",
    "        if random.random()<0.85: Crying = True\n",
    "    elif not Hungry and Tired:\n",
    "        if random.random()<0.7: Crying = True\n",
    "    else:\n",
    "        if random.random()<0.3: Crying = True\n",
    "\n",
    "    if Crying:\n",
    "        if random.random()<0.9: Woken = True\n",
    "    else:\n",
    "        if random.random()<0.2: Woken = True\n",
    "\n",
    "    return(Hungry, Tired, Crying, Woken)"
   ]
  },
  {
   "cell_type": "code",
   "execution_count": 2,
   "metadata": {},
   "outputs": [
    {
     "data": {
      "text/plain": [
       "(False, False, True, True)"
      ]
     },
     "execution_count": 2,
     "metadata": {},
     "output_type": "execute_result"
    }
   ],
   "source": [
    "# Return the results of our simulation\n",
    "# The order is Hungry, Tired, Crying, Woken\n",
    "\n",
    "simulation()"
   ]
  },
  {
   "cell_type": "code",
   "execution_count": 3,
   "metadata": {},
   "outputs": [
    {
     "data": {
      "text/plain": [
       "0.56704"
      ]
     },
     "execution_count": 3,
     "metadata": {},
     "output_type": "execute_result"
    }
   ],
   "source": [
    "# Estimate the probability of P(Woken)\n",
    "# This should be approximately 0.5668 \n",
    "\n",
    "count=0\n",
    "for k in range(1000000):\n",
    "    result = simulation()\n",
    "    if result[3]:\n",
    "        count+=1\n",
    "count/1000000"
   ]
  },
  {
   "cell_type": "code",
   "execution_count": 4,
   "metadata": {},
   "outputs": [
    {
     "data": {
      "text/plain": [
       "0.42498540777981353"
      ]
     },
     "execution_count": 4,
     "metadata": {},
     "output_type": "execute_result"
    }
   ],
   "source": [
    "# Estimate the probability of P(Hungry|Woken)\n",
    "# This should be approximately 0.4244 \n",
    "\n",
    "wcount=0\n",
    "hcount=0\n",
    "for k in range(1000000):\n",
    "    result = simulation()\n",
    "    if result[3]:\n",
    "        wcount+=1\n",
    "        if result[0]:\n",
    "            hcount+=1\n",
    "            \n",
    "hcount/wcount"
   ]
  }
 ],
 "metadata": {
  "kernelspec": {
   "display_name": "Python 3",
   "language": "python",
   "name": "python3"
  },
  "language_info": {
   "codemirror_mode": {
    "name": "ipython",
    "version": 3
   },
   "file_extension": ".py",
   "mimetype": "text/x-python",
   "name": "python",
   "nbconvert_exporter": "python",
   "pygments_lexer": "ipython3",
   "version": "3.7.3"
  }
 },
 "nbformat": 4,
 "nbformat_minor": 2
}
