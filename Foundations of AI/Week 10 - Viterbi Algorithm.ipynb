{
 "cells": [
  {
   "cell_type": "code",
   "execution_count": 1,
   "metadata": {},
   "outputs": [],
   "source": [
    "# Code for the Viterbi Algorithm\n",
    "# Credit: https://en.wikipedia.org/wiki/Viterbi_algorithm\n",
    "\n",
    "# Our states are Rain (R) and No Rain (N)\n",
    "# Define the start probability, the transition probabilities, and\n",
    "# the emission (or sensor) probabilities.\n",
    "\n",
    "states = (\"R\", \"N\")\n",
    "start_p = {\"R\": 0.6, \"N\": 0.4}\n",
    "trans_p = {\n",
    "    \"R\": {\"R\": 0.7, \"N\": 0.3},\n",
    "    \"N\": {\"R\": 0.3, \"N\": 0.7},\n",
    "}\n",
    "emit_p = {\n",
    "    \"R\": {\"umbrella\": 0.9, \"no umbrella\": 0.1},\n",
    "    \"N\": {\"umbrella\": 0.2, \"no umbrella\": 0.8},\n",
    "}\n",
    "\n"
   ]
  },
  {
   "cell_type": "code",
   "execution_count": 2,
   "metadata": {},
   "outputs": [],
   "source": [
    "def viterbi(obs, states, start_p, trans_p, emit_p):\n",
    "    V = [{}]\n",
    "    for st in states:\n",
    "        V[0][st] = {\"prob\": start_p[st] * emit_p[st][obs[0]], \"prev\": None}\n",
    "    # Run Viterbi when t > 0\n",
    "    for t in range(1, len(obs)):\n",
    "        V.append({})\n",
    "        for st in states:\n",
    "            max_tr_prob = V[t - 1][states[0]][\"prob\"] * trans_p[states[0]][st]\n",
    "            prev_st_selected = states[0]\n",
    "            for prev_st in states[1:]:\n",
    "                tr_prob = V[t - 1][prev_st][\"prob\"] * trans_p[prev_st][st]\n",
    "                if tr_prob > max_tr_prob:\n",
    "                    max_tr_prob = tr_prob\n",
    "                    prev_st_selected = prev_st\n",
    "\n",
    "            max_prob = max_tr_prob * emit_p[st][obs[t]]\n",
    "            V[t][st] = {\"prob\": max_prob, \"prev\": prev_st_selected}\n",
    "        \n",
    "    for line in dptable(V):\n",
    "        print(line)\n",
    "\n",
    "    opt = []\n",
    "    max_prob = 0.0\n",
    "    previous = None\n",
    "    # Get most probable state and its backtrack\n",
    "    for st, data in V[-1].items():\n",
    "        if data[\"prob\"] > max_prob:\n",
    "            max_prob = data[\"prob\"]\n",
    "            best_st = st\n",
    "    opt.append(best_st)\n",
    "    previous = best_st\n",
    "\n",
    "    # Follow the backtrack till the first observation\n",
    "    for t in range(len(V) - 2, -1, -1):\n",
    "        opt.insert(0, V[t + 1][previous][\"prev\"])\n",
    "        previous = V[t + 1][previous][\"prev\"]\n",
    "\n",
    "    print ('The steps of states are ' + ' '.join(opt) + ' with highest probability of %s' % max_prob)\n",
    "\n",
    "def dptable(V):\n",
    "    # Print a table of steps from dictionary\n",
    "    # yield \" \".join((\"%12d\" % i) for i in range(len(V)))\n",
    "    for state in V[0]:\n",
    "        yield \"%.7s: \" % state + \" \".join(\"%.7s\" % (\"%f\" % v[state][\"prob\"]) for v in V)"
   ]
  },
  {
   "cell_type": "code",
   "execution_count": 3,
   "metadata": {},
   "outputs": [
    {
     "name": "stdout",
     "output_type": "stream",
     "text": [
      "R: 0.54000 0.34020 0.21432 0.01500 0.00154\n",
      "N: 0.08000 0.03240 0.02041 0.05143 0.02880\n",
      "The steps of states are R R R N N with highest probability of 0.028805414399999996\n"
     ]
    }
   ],
   "source": [
    "# Add your Observations, i.e., what you saw each day.\n",
    "observations = (\"umbrella\", \"umbrella\", \"umbrella\", \"no umbrella\", \"no umbrella\", )\n",
    "\n",
    "# Now run the Viterbi Algorithm\n",
    "viterbi(observations, states, start_p, trans_p, emit_p)"
   ]
  },
  {
   "cell_type": "code",
   "execution_count": 4,
   "metadata": {},
   "outputs": [
    {
     "name": "stdout",
     "output_type": "stream",
     "text": [
      "Day 1 [0.54, 0.08000000000000002]\n",
      "Day 2 [0.3402, 0.032400000000000005]\n",
      "Day 3 [0.214326, 0.020412]\n",
      "Day 4 [0.015002399999999999, 0.051436800000000005]\n",
      "Day 5 [0.0015428999999999998, 0.0288008]\n"
     ]
    }
   ],
   "source": [
    "# Where do these numbers come from?\n",
    "\n",
    "# If it's rain, there's a 70% chance it's rain the next day\n",
    "# If it's not rain, there's a 70% chance it's not rain the next day\n",
    "\n",
    "# We saw an umbrella on Day 1, 2, 3\n",
    "# If it's rain, 90% chance of umbrella\n",
    "# If it's not rain, 20% chance of umbrella\n",
    "\n",
    "print(\"Day 1\", [0.6 * 0.9, 0.4 * 0.2])\n",
    "print(\"Day 2\", [0.54 * 0.7 * 0.9, 0.54 * 0.3 * 0.2])\n",
    "print(\"Day 3\", [0.3402 * 0.7 * 0.9, 0.3402 * 0.3 * 0.2])\n",
    "\n",
    "# We saw no umbrella on Day 4, 5\n",
    "# If it's rain, 10% chance of no umbrella\n",
    "# If it's not rain, 80% chance of no umbrella\n",
    "\n",
    "print(\"Day 4\", [0.21432 * 0.7 * 0.1, 0.21432 * 0.3 * 0.8])\n",
    "print(\"Day 5\", [0.05143 * 0.3 * 0.1, 0.05143 * 0.7 * 0.8])"
   ]
  }
 ],
 "metadata": {
  "kernelspec": {
   "display_name": "Python 3",
   "language": "python",
   "name": "python3"
  },
  "language_info": {
   "codemirror_mode": {
    "name": "ipython",
    "version": 3
   },
   "file_extension": ".py",
   "mimetype": "text/x-python",
   "name": "python",
   "nbconvert_exporter": "python",
   "pygments_lexer": "ipython3",
   "version": "3.7.3"
  }
 },
 "nbformat": 4,
 "nbformat_minor": 2
}
