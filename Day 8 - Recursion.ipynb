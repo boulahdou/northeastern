{
 "cells": [
  {
   "cell_type": "code",
   "execution_count": 1,
   "metadata": {},
   "outputs": [
    {
     "data": {
      "text/plain": [
       "15"
      ]
     },
     "execution_count": 1,
     "metadata": {},
     "output_type": "execute_result"
    }
   ],
   "source": [
    "# Let's determine the sum of the first n positive integers\n",
    "# For example, Sum(5) = 1+2+3+4+5 = 15\n",
    "\n",
    "def Sum(n):\n",
    "    if n==1: return 1\n",
    "    else: return n + Sum(n-1)\n",
    "    \n",
    "Sum(5)"
   ]
  },
  {
   "cell_type": "code",
   "execution_count": 2,
   "metadata": {},
   "outputs": [
    {
     "data": {
      "text/plain": [
       "120"
      ]
     },
     "execution_count": 2,
     "metadata": {},
     "output_type": "execute_result"
    }
   ],
   "source": [
    "# Let's compute the product of the first n positive integers\n",
    "# For example, Factorial(5) = 1*2*3*4*5 = 120\n",
    "\n",
    "def Factorial(n):\n",
    "    if n==1: return 1\n",
    "    else: return n * Factorial(n-1)\n",
    "    \n",
    "Factorial(5)\n"
   ]
  },
  {
   "cell_type": "code",
   "execution_count": 3,
   "metadata": {},
   "outputs": [
    {
     "data": {
      "text/plain": [
       "35"
      ]
     },
     "execution_count": 3,
     "metadata": {},
     "output_type": "execute_result"
    }
   ],
   "source": [
    "# Let's computer the number of paths from (0,0) to (x,y)\n",
    "# For example, Paths(4,3) = 35 by our analysis from tonight.\n",
    "\n",
    "def Paths(x,y):\n",
    "    if x==0: return 1\n",
    "    elif y==0: return 1\n",
    "    else: return Paths(x-1,y)+Paths(x,y-1)\n",
    "\n",
    "Paths(4,3)"
   ]
  },
  {
   "cell_type": "code",
   "execution_count": 4,
   "metadata": {},
   "outputs": [
    {
     "name": "stdout",
     "output_type": "stream",
     "text": [
      "Move disk 1 from Tower A to Tower B\n",
      "Move disk 2 from Tower A to Tower C\n",
      "Move disk 1 from Tower B to Tower C\n",
      "Move disk 3 from Tower A to Tower B\n",
      "Move disk 1 from Tower C to Tower A\n",
      "Move disk 2 from Tower C to Tower B\n",
      "Move disk 1 from Tower A to Tower B\n",
      "Move disk 4 from Tower A to Tower C\n",
      "Move disk 1 from Tower B to Tower C\n",
      "Move disk 2 from Tower B to Tower A\n",
      "Move disk 1 from Tower C to Tower A\n",
      "Move disk 3 from Tower B to Tower C\n",
      "Move disk 1 from Tower A to Tower B\n",
      "Move disk 2 from Tower A to Tower C\n",
      "Move disk 1 from Tower B to Tower C\n"
     ]
    }
   ],
   "source": [
    "# Let's solve the Towers of Hanoi problem\n",
    "# Label the three towers A, B, C, with StartTower = A and TargetTower = C\n",
    "\n",
    "def Hanoi(n, StartTower, TargetTower, OtherTower):\n",
    "    if n==1:\n",
    "        print(\"Move disk 1 from\", StartTower, \"to\", TargetTower)\n",
    "    else:\n",
    "        Hanoi(n-1, StartTower, OtherTower, TargetTower)\n",
    "        print(\"Move disk\", n, \"from\", StartTower, \"to\", TargetTower)\n",
    "        Hanoi(n-1, OtherTower, TargetTower, StartTower)\n",
    "    \n",
    "Hanoi(4,'Tower A','Tower C','Tower B')  "
   ]
  },
  {
   "cell_type": "code",
   "execution_count": null,
   "metadata": {},
   "outputs": [],
   "source": []
  }
 ],
 "metadata": {
  "kernelspec": {
   "display_name": "Python 3",
   "language": "python",
   "name": "python3"
  },
  "language_info": {
   "codemirror_mode": {
    "name": "ipython",
    "version": 3
   },
   "file_extension": ".py",
   "mimetype": "text/x-python",
   "name": "python",
   "nbconvert_exporter": "python",
   "pygments_lexer": "ipython3",
   "version": "3.7.8"
  }
 },
 "nbformat": 4,
 "nbformat_minor": 4
}
