{
 "cells": [
  {
   "cell_type": "code",
   "execution_count": 1,
   "metadata": {},
   "outputs": [],
   "source": [
    "def payoff(ticket, draw):\n",
    "    \n",
    "    # Count how many numbers appear on both the ticket\n",
    "    # and the winning 3-number draw\n",
    "    count=0\n",
    "    for x in ticket:\n",
    "        if x in draw:\n",
    "            count+=1\n",
    "        \n",
    "    # If 3 numbers match, return $21.  If 2 numbers match, return $7\n",
    "    if count==3: return 21\n",
    "    elif count==2: return 7\n",
    "    else: return 0"
   ]
  },
  {
   "cell_type": "code",
   "execution_count": 2,
   "metadata": {},
   "outputs": [
    {
     "data": {
      "text/plain": [
       "7"
      ]
     },
     "execution_count": 2,
     "metadata": {},
     "output_type": "execute_result"
    }
   ],
   "source": [
    "payoff([1,2,3],[1,2,7])"
   ]
  },
  {
   "cell_type": "code",
   "execution_count": 3,
   "metadata": {},
   "outputs": [],
   "source": [
    "def profit(alltickets, draw):\n",
    "    \n",
    "    # You pay 20 dollars at the start\n",
    "    winnings = -20\n",
    "\n",
    "    # For each ticket, add the payoff to the total winnings\n",
    "    for ticket in alltickets:\n",
    "        winnings += payoff(ticket, draw)\n",
    "    return winnings"
   ]
  },
  {
   "cell_type": "code",
   "execution_count": 4,
   "metadata": {},
   "outputs": [],
   "source": [
    "# Decide what the seven tickets are\n",
    "\n",
    "T1=[1,2,3]\n",
    "T2=[2,3,4]\n",
    "T3=[3,4,5]\n",
    "T4=[4,5,6]\n",
    "T5=[5,6,7]\n",
    "T6=[6,7,1]\n",
    "T7=[7,1,2]"
   ]
  },
  {
   "cell_type": "code",
   "execution_count": 5,
   "metadata": {},
   "outputs": [
    {
     "data": {
      "text/plain": [
       "15"
      ]
     },
     "execution_count": 5,
     "metadata": {},
     "output_type": "execute_result"
    }
   ],
   "source": [
    "profit([T1,T2,T3,T4,T5,T6,T7], [1,2,7])"
   ]
  },
  {
   "cell_type": "code",
   "execution_count": 6,
   "metadata": {},
   "outputs": [
    {
     "name": "stdout",
     "output_type": "stream",
     "text": [
      "(1, 2, 3) is a profit of 15\n",
      "(1, 2, 4) is a profit of 1\n",
      "(1, 2, 5) is a profit of -6\n",
      "(1, 2, 6) is a profit of 1\n",
      "(1, 2, 7) is a profit of 15\n",
      "(1, 3, 4) is a profit of 1\n",
      "(1, 3, 5) is a profit of -6\n",
      "(1, 3, 6) is a profit of -6\n",
      "(1, 3, 7) is a profit of 1\n",
      "(1, 4, 5) is a profit of -6\n",
      "(1, 4, 6) is a profit of -6\n",
      "(1, 4, 7) is a profit of -6\n",
      "(1, 5, 6) is a profit of 1\n",
      "(1, 5, 7) is a profit of 1\n",
      "(1, 6, 7) is a profit of 15\n",
      "(2, 3, 4) is a profit of 15\n",
      "(2, 3, 5) is a profit of 1\n",
      "(2, 3, 6) is a profit of -6\n",
      "(2, 3, 7) is a profit of 1\n",
      "(2, 4, 5) is a profit of 1\n",
      "(2, 4, 6) is a profit of -6\n",
      "(2, 4, 7) is a profit of -6\n",
      "(2, 5, 6) is a profit of -6\n",
      "(2, 5, 7) is a profit of -6\n",
      "(2, 6, 7) is a profit of 1\n",
      "(3, 4, 5) is a profit of 15\n",
      "(3, 4, 6) is a profit of 1\n",
      "(3, 4, 7) is a profit of -6\n",
      "(3, 5, 6) is a profit of 1\n",
      "(3, 5, 7) is a profit of -6\n",
      "(3, 6, 7) is a profit of -6\n",
      "(4, 5, 6) is a profit of 15\n",
      "(4, 5, 7) is a profit of 1\n",
      "(4, 6, 7) is a profit of 1\n",
      "(5, 6, 7) is a profit of 15\n",
      "\n",
      "The expected profit is 1.0\n",
      "The variance in profit is 58.79999999999999\n",
      "We make a profit in 21 out of 35 draws\n"
     ]
    }
   ],
   "source": [
    "from itertools import combinations \n",
    "\n",
    "# We use a Python package called Itertools to find all C(7,3)=35\n",
    "# combinations of ways that our Draw can be selected, and then\n",
    "# determine the expected value, variance, and wins for these 35 cases.\n",
    "\n",
    "expected = 0\n",
    "variance = 0\n",
    "wins=0\n",
    "\n",
    "for draw in combinations([1,2,3,4,5,6,7],3):\n",
    "    \n",
    "    # The result is the total profit to the team\n",
    "    result = profit([T1,T2,T3,T4,T5,T6,T7], draw)\n",
    "    \n",
    "    # Use this number towards the calculation of our\n",
    "    # three performance metrics.\n",
    "    expected+=result/35\n",
    "    variance+=(result-1)**2 /35\n",
    "    if result>0: wins+=1\n",
    "    print(draw, \"is a profit of\", result)\n",
    "    \n",
    "print(\"\")\n",
    "print(\"The expected profit is\", expected)\n",
    "print(\"The variance in profit is\", variance)\n",
    "print(\"We make a profit in\", wins, \"out of 35 draws\")\n"
   ]
  }
 ],
 "metadata": {
  "kernelspec": {
   "display_name": "Python 3",
   "language": "python",
   "name": "python3"
  },
  "language_info": {
   "codemirror_mode": {
    "name": "ipython",
    "version": 3
   },
   "file_extension": ".py",
   "mimetype": "text/x-python",
   "name": "python",
   "nbconvert_exporter": "python",
   "pygments_lexer": "ipython3",
   "version": "3.7.3"
  }
 },
 "nbformat": 4,
 "nbformat_minor": 2
}
