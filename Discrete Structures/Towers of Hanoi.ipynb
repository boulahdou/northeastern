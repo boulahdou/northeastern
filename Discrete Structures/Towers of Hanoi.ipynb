{
 "cells": [
  {
   "cell_type": "code",
   "execution_count": 1,
   "metadata": {},
   "outputs": [
    {
     "name": "stdout",
     "output_type": "stream",
     "text": [
      "The sum of the first 20 integers is 210.0\n",
      "The sum of the first 20 integers is 210\n"
     ]
    }
   ],
   "source": [
    "# Let's determine the sum of the first n positive integers\n",
    "# For example, Sum(5) = 1+2+3+4+5 = 15\n",
    "#\n",
    "# We can determine Sum(n), both directly and recursively.\n",
    "\n",
    "def SumD(n):\n",
    "    return n*(n+1)/2\n",
    "\n",
    "def SumR(n):\n",
    "    if n==1: return 1\n",
    "    else: return SumR(n-1) + n\n",
    "    \n",
    "print(\"The sum of the first 20 integers is\", SumD(20))\n",
    "print(\"The sum of the first 20 integers is\", SumR(20))"
   ]
  },
  {
   "cell_type": "code",
   "execution_count": 2,
   "metadata": {},
   "outputs": [
    {
     "name": "stdout",
     "output_type": "stream",
     "text": [
      "The 20-disk Towers of Hanoi game takes this many moves: 1048575\n",
      "The 20-disk Towers of Hanoi game takes this many moves: 1048575\n"
     ]
    }
   ],
   "source": [
    "# Let's determine the number of moves required for Towers of Hanoi\n",
    "# For example, Moves(3) = 7.\n",
    "#\n",
    "# We can determine Moves(n), both directly and recursively.\n",
    "\n",
    "def MovesD(n):\n",
    "    return 2**n - 1\n",
    "\n",
    "def MovesR(n):\n",
    "    if n==1: return 1\n",
    "    else: return 2 * MovesR(n-1) + 1\n",
    "    \n",
    "print(\"The 20-disk Towers of Hanoi game takes this many moves:\", MovesD(20))\n",
    "print(\"The 20-disk Towers of Hanoi game takes this many moves:\", MovesR(20))"
   ]
  },
  {
   "cell_type": "code",
   "execution_count": 3,
   "metadata": {},
   "outputs": [
    {
     "name": "stdout",
     "output_type": "stream",
     "text": [
      "Move disk 1 from Tower A to Tower B\n",
      "Move disk 2 from Tower A to Tower C\n",
      "Move disk 1 from Tower B to Tower C\n",
      "Move disk 3 from Tower A to Tower B\n",
      "Move disk 1 from Tower C to Tower A\n",
      "Move disk 2 from Tower C to Tower B\n",
      "Move disk 1 from Tower A to Tower B\n",
      "Move disk 4 from Tower A to Tower C\n",
      "Move disk 1 from Tower B to Tower C\n",
      "Move disk 2 from Tower B to Tower A\n",
      "Move disk 1 from Tower C to Tower A\n",
      "Move disk 3 from Tower B to Tower C\n",
      "Move disk 1 from Tower A to Tower B\n",
      "Move disk 2 from Tower A to Tower C\n",
      "Move disk 1 from Tower B to Tower C\n"
     ]
    }
   ],
   "source": [
    "# Let's solve the Towers of Hanoi problem, actually showing the moves in the solution.\n",
    "# It turns out that there is a DIRECT solution, representing moves using binary numbers.\n",
    "# http://superm.math.hawaii.edu/_lessons/ninth_twelveth/hanoi/Hanoi_Student_Worksheet_Solutions.pdf\n",
    "#\n",
    "# But here we use RECURSION to solve the Towers of Hanoi problem.\n",
    "# Label the three towers A, B, C, with StartTower = A and TargetTower = C\n",
    "\n",
    "def Hanoi(n, StartTower, TargetTower, OtherTower):\n",
    "    if n==1:\n",
    "        print(\"Move disk 1 from\", StartTower, \"to\", TargetTower)\n",
    "    else:\n",
    "        Hanoi(n-1, StartTower, OtherTower, TargetTower)\n",
    "        print(\"Move disk\", n, \"from\", StartTower, \"to\", TargetTower)\n",
    "        Hanoi(n-1, OtherTower, TargetTower, StartTower)\n",
    "    \n",
    "Hanoi(4,'Tower A','Tower C','Tower B')  "
   ]
  },
  {
   "cell_type": "code",
   "execution_count": null,
   "metadata": {},
   "outputs": [],
   "source": []
  }
 ],
 "metadata": {
  "kernelspec": {
   "display_name": "Python 3",
   "language": "python",
   "name": "python3"
  },
  "language_info": {
   "codemirror_mode": {
    "name": "ipython",
    "version": 3
   },
   "file_extension": ".py",
   "mimetype": "text/x-python",
   "name": "python",
   "nbconvert_exporter": "python",
   "pygments_lexer": "ipython3",
   "version": "3.7.3"
  }
 },
 "nbformat": 4,
 "nbformat_minor": 4
}
